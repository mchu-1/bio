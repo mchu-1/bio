{
  "nbformat": 4,
  "nbformat_minor": 0,
  "metadata": {
    "colab": {
      "private_outputs": true,
      "provenance": [],
      "authorship_tag": "ABX9TyNMq+uGHbQV1ACQ6Hz6RowF",
      "include_colab_link": true
    },
    "kernelspec": {
      "name": "python3",
      "display_name": "Python 3"
    },
    "language_info": {
      "name": "python"
    }
  },
  "cells": [
    {
      "cell_type": "markdown",
      "metadata": {
        "id": "view-in-github",
        "colab_type": "text"
      },
      "source": [
        "<a href=\"https://colab.research.google.com/github/mchu-1/bio/blob/main/bio.ipynb\" target=\"_parent\"><img src=\"https://colab.research.google.com/assets/colab-badge.svg\" alt=\"Open In Colab\"/></a>"
      ]
    },
    {
      "cell_type": "markdown",
      "source": [
        "# Install Assembly Dependencies"
      ],
      "metadata": {
        "id": "gwDTFGnbZcx5"
      }
    },
    {
      "cell_type": "code",
      "execution_count": null,
      "metadata": {
        "id": "9CAHNN6TOvjv"
      },
      "outputs": [],
      "source": [
        "!pip install biopython dnacauldron dnachisel dnaweaver -q"
      ]
    },
    {
      "cell_type": "markdown",
      "source": [
        "# Import Assembly Dependencies"
      ],
      "metadata": {
        "id": "_jP7OaMOZY9N"
      }
    },
    {
      "cell_type": "code",
      "source": [
        "from Bio import SeqIO\n",
        "from Bio.Seq import Seq\n",
        "from Bio.Restriction import *\n",
        "import dnacauldron as dnc\n",
        "import dnachisel as dch"
      ],
      "metadata": {
        "id": "aukHONOaPE_M"
      },
      "execution_count": null,
      "outputs": []
    },
    {
      "cell_type": "markdown",
      "source": [
        "# Define Golden Gate Site"
      ],
      "metadata": {
        "id": "Uzbgb33-Y7rc"
      }
    },
    {
      "cell_type": "code",
      "source": [
        "# Replace degenerate bases in Type IIS RS\n",
        "def define_gg_site(enzyme):\n",
        "  \"\"\"\n",
        "  Replace degenerate bases with random GC bases for T2S RS.\n",
        "  \"\"\"\n",
        "  B = []\n",
        "  for x in enzyme.elucidate().split(\"^\")[0]:\n",
        "    if \"N\" in x:\n",
        "      B.append(dch.random_dna_sequence(length=1, gc_share=1, seed=0))\n",
        "    else:\n",
        "      B.append(x)\n",
        "  return \"\".join(B)"
      ],
      "metadata": {
        "id": "hlHcK6q_TCJO"
      },
      "execution_count": null,
      "outputs": []
    },
    {
      "cell_type": "markdown",
      "source": [
        "# Get Golden Gate Part"
      ],
      "metadata": {
        "id": "wSe3vK7yZSK5"
      }
    },
    {
      "cell_type": "code",
      "source": [
        "# Get sequence between Golden Gate handles\n",
        "def get_gg_part(enzyme, seq, overhang: int = 4):\n",
        "  # Default overhang length is 4 nt.\n",
        "  gg_part = enzyme.catalyse(seq)[1] + enzyme.catalyse(seq)[-1][:overhang]\n",
        "  return gg_part"
      ],
      "metadata": {
        "id": "CJCvmW8LVewu"
      },
      "execution_count": null,
      "outputs": []
    },
    {
      "cell_type": "markdown",
      "source": [
        "# Switch Golden Gate Handles"
      ],
      "metadata": {
        "id": "UfiXQoetZUT8"
      }
    },
    {
      "cell_type": "code",
      "source": [
        "# Switch Golden Gate handles\n",
        "def switch_gg_handles(enzyme_1, enzyme_2, seq, overhang: int = 4):\n",
        "  \"\"\"\n",
        "  Switch T2S enzyme handles for a given sequence.\n",
        "  Default overhang length is 4 nt.\n",
        "  \"\"\"\n",
        "  seq_ = get_gg_part(enzyme_1, seq, overhang)\n",
        "  new_handle = Seq(define_gg_site(enzyme_2))\n",
        "  new_seq = new_handle + seq_ + new_handle.reverse_complement()\n",
        "\n",
        "  return Seq(new_seq)"
      ],
      "metadata": {
        "id": "ZpLa0-fuRUAB"
      },
      "execution_count": null,
      "outputs": []
    },
    {
      "cell_type": "markdown",
      "source": [
        "# Generate Golden Gate Switching Primers"
      ],
      "metadata": {
        "id": "po--1B7NroR0"
      }
    },
    {
      "cell_type": "code",
      "source": [
        "# Generate primers to switch Golden Gate handles\n",
        "def get_switching_handles(enzyme_1, enzyme_2, seq, overhang: int = 4):\n",
        "  handle = Seq(\"GGCTAC\") # Flanking bases for RE binding\n",
        "  new_seq = switch_gg_handles(enzyme_1, enzyme_2, seq, overhang)\n",
        "  new_seq_F = Seq(handle + enzyme_2.catalyse(new_seq)[0] + enzyme_2.catalyse(new_seq)[1][:20])\n",
        "  new_seq_R = Seq(enzyme_2.catalyse(new_seq)[1][-20:] + enzyme_2.catalyse(new_seq)[-1] + handle).reverse_complement()\n",
        "  return new_seq_F, new_seq_R"
      ],
      "metadata": {
        "id": "swycSPvgrjny"
      },
      "execution_count": null,
      "outputs": []
    },
    {
      "cell_type": "code",
      "source": [],
      "metadata": {
        "id": "6ZvEA0C6sLj5"
      },
      "execution_count": null,
      "outputs": []
    }
  ]
}