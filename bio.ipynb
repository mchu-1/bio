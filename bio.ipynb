{
  "nbformat": 4,
  "nbformat_minor": 0,
  "metadata": {
    "colab": {
      "private_outputs": true,
      "provenance": [],
      "authorship_tag": "ABX9TyPItIsQUJIKH9PzTviVOwcf"
    },
    "kernelspec": {
      "name": "python3",
      "display_name": "Python 3"
    },
    "language_info": {
      "name": "python"
    }
  },
  "cells": [
    {
      "cell_type": "markdown",
      "source": [
        "# Install Bio Dependencies"
      ],
      "metadata": {
        "id": "gwDTFGnbZcx5"
      }
    },
    {
      "cell_type": "code",
      "execution_count": null,
      "metadata": {
        "id": "9CAHNN6TOvjv"
      },
      "outputs": [],
      "source": [
        "# Install bio dependencies\n",
        "!pip install biopython dnacauldron dnachisel dnaweaver -q"
      ]
    },
    {
      "cell_type": "markdown",
      "source": [
        "# Import Bio Dependencies"
      ],
      "metadata": {
        "id": "_jP7OaMOZY9N"
      }
    },
    {
      "cell_type": "code",
      "source": [
        "# Import bio dependencies\n",
        "from Bio import Entrez, SeqIO\n",
        "from Bio.Seq import Seq\n",
        "from Bio.Data import CodonTable\n",
        "from Bio.Blast import NCBIWWW, NCBIXML\n",
        "from Bio.Restriction import *\n",
        "from Bio.SeqRecord import SeqRecord\n",
        "import dnacauldron as dnc\n",
        "import dnachisel as dch\n",
        "import dnaweaver as dw"
      ],
      "metadata": {
        "id": "aukHONOaPE_M"
      },
      "execution_count": null,
      "outputs": []
    },
    {
      "cell_type": "markdown",
      "source": [
        "# Install Golden Gate dependencies"
      ],
      "metadata": {
        "id": "3DMuCqnejbal"
      }
    },
    {
      "cell_type": "code",
      "source": [
        "# Install Golden Gate dependencies\n",
        "!apt-get -qq install -y swig3.0\n",
        "!ln /usr/bin/swig3.0 /usr/bin/swig\n",
        "!pip install numberjack\n",
        "!pip install goldenhinges\n",
        "!pip install tatapov"
      ],
      "metadata": {
        "id": "Q99U9fcLjgvh"
      },
      "execution_count": null,
      "outputs": []
    },
    {
      "cell_type": "markdown",
      "source": [
        "# Import Golden Gate dependencies"
      ],
      "metadata": {
        "id": "0CkCyxaflCzG"
      }
    },
    {
      "cell_type": "code",
      "source": [
        "# Import Golden Gate dependencies\n",
        "import tatapov\n",
        "from goldenhinges import OverhangsSelector"
      ],
      "metadata": {
        "id": "jggSXyPilHPK"
      },
      "execution_count": null,
      "outputs": []
    },
    {
      "cell_type": "markdown",
      "source": [
        "# Define Golden Gate Site"
      ],
      "metadata": {
        "id": "Uzbgb33-Y7rc"
      }
    },
    {
      "cell_type": "code",
      "source": [
        "# Replace degenerate bases in Type IIS RS\n",
        "def define_gg_site(enzyme):\n",
        "  \"\"\"\n",
        "  Replace degenerate bases with random GC bases for T2S RS.\n",
        "  \"\"\"\n",
        "  B = []\n",
        "  for x in enzyme.elucidate().split(\"^\")[0]:\n",
        "    if \"N\" in x:\n",
        "      B.append(dch.random_dna_sequence(length=1, gc_share=1, seed=0))\n",
        "    else:\n",
        "      B.append(x)\n",
        "  return Seq(\"\".join(B))"
      ],
      "metadata": {
        "id": "hlHcK6q_TCJO"
      },
      "execution_count": null,
      "outputs": []
    },
    {
      "cell_type": "markdown",
      "source": [
        "# Get Golden Gate Part"
      ],
      "metadata": {
        "id": "wSe3vK7yZSK5"
      }
    },
    {
      "cell_type": "code",
      "source": [
        "# Get sequence between Golden Gate handles\n",
        "def get_gg_part(enzyme, seq, overhang: int = 4):\n",
        "  # Default overhang length is 4 nt.\n",
        "  gg_part = enzyme.catalyse(seq)[1] + enzyme.catalyse(seq)[-1][:overhang]\n",
        "  return gg_part"
      ],
      "metadata": {
        "id": "CJCvmW8LVewu"
      },
      "execution_count": null,
      "outputs": []
    },
    {
      "cell_type": "markdown",
      "source": [
        "# Switch Golden Gate Handles"
      ],
      "metadata": {
        "id": "UfiXQoetZUT8"
      }
    },
    {
      "cell_type": "code",
      "source": [
        "# Switch Golden Gate handles\n",
        "def switch_gg_handles(enzyme_1, enzyme_2, seq, overhang: int = 4):\n",
        "  \"\"\"\n",
        "  Switch T2S enzyme handles for a given sequence.\n",
        "  Default overhang length is 4 nt.\n",
        "  \"\"\"\n",
        "  seq_ = get_gg_part(enzyme_1, seq, overhang)\n",
        "  new_handle = Seq(define_gg_site(enzyme_2))\n",
        "  new_seq = new_handle + seq_ + new_handle.reverse_complement()\n",
        "\n",
        "  return Seq(new_seq)"
      ],
      "metadata": {
        "id": "ZpLa0-fuRUAB"
      },
      "execution_count": null,
      "outputs": []
    },
    {
      "cell_type": "markdown",
      "source": [
        "# Generate Golden Gate Switching Primers"
      ],
      "metadata": {
        "id": "po--1B7NroR0"
      }
    },
    {
      "cell_type": "code",
      "source": [
        "# Generate primers to switch Golden Gate handles\n",
        "def get_switching_handles(enzyme_1, enzyme_2, seq, overhang: int = 4):\n",
        "  handle = Seq(\"GGCTAC\") # Flanking bases for RE binding\n",
        "  new_seq = switch_gg_handles(enzyme_1, enzyme_2, seq, overhang)\n",
        "  new_seq_F = Seq(handle + enzyme_2.catalyse(new_seq)[0] + enzyme_2.catalyse(new_seq)[1][:20])\n",
        "  new_seq_R = Seq(enzyme_2.catalyse(new_seq)[1][-20:] + enzyme_2.catalyse(new_seq)[-1] + handle).reverse_complement()\n",
        "  return new_seq_F, new_seq_R"
      ],
      "metadata": {
        "id": "swycSPvgrjny"
      },
      "execution_count": null,
      "outputs": []
    },
    {
      "cell_type": "markdown",
      "source": [
        "# Read DNA Sequence from FASTA"
      ],
      "metadata": {
        "id": "hp3kxKswfETI"
      }
    },
    {
      "cell_type": "code",
      "source": [
        "# Read DNA sequence from FASTA file\n",
        "def read_dna_from_fasta(f: str):\n",
        "  with open(f, \"r\") as handle:\n",
        "    for record in SeqIO.parse(handle, \"fasta\"):\n",
        "      dna_seq = record.seq\n",
        "  return dna_seq"
      ],
      "metadata": {
        "id": "6ZvEA0C6sLj5"
      },
      "execution_count": null,
      "outputs": []
    },
    {
      "cell_type": "markdown",
      "source": [
        "# Read DNA Sequence from GenBank"
      ],
      "metadata": {
        "id": "r78s_PxkzYs6"
      }
    },
    {
      "cell_type": "code",
      "source": [
        "# Read DNA sequence from GenBank file\n",
        "def read_dna_from_genbank(f: str):\n",
        "  with open(f, \"r\") as handle:\n",
        "    for record in SeqIO.parse(handle, \"genbank\"):\n",
        "      dna_seq = record.seq\n",
        "  return dna_seq"
      ],
      "metadata": {
        "id": "NXchrmHhzbM_"
      },
      "execution_count": null,
      "outputs": []
    },
    {
      "cell_type": "markdown",
      "source": [
        "# Text to DNA"
      ],
      "metadata": {
        "id": "3uRfJ2TjJL0q"
      }
    },
    {
      "cell_type": "code",
      "source": [
        "# Text to DNA\n",
        "def text_to_dna(text):\n",
        "    # DNA mapping for 2-bit chunks\n",
        "    mapping = {\n",
        "        '00': 'A',\n",
        "        '01': 'C',\n",
        "        '10': 'G',\n",
        "        '11': 'T'\n",
        "    }\n",
        "\n",
        "    dna_sequence = []\n",
        "\n",
        "    for char in text:\n",
        "        # Convert character to its ASCII value\n",
        "        ascii_val = ord(char)\n",
        "        # Convert ASCII value to an 8-bit binary string\n",
        "        binary_str = format(ascii_val, '08b')  # e.g. 72 -> '01001000'\n",
        "\n",
        "        # Split into pairs of bits (00, 01, 10, 11)\n",
        "        for i in range(0, 8, 2):\n",
        "            two_bits = binary_str[i:i+2]  # e.g. '01'\n",
        "            dna_sequence.append(mapping[two_bits])  # Convert to A/C/G/T\n",
        "\n",
        "    # Return a single continuous DNA string\n",
        "    return \"\".join(dna_sequence)"
      ],
      "metadata": {
        "id": "6FVdQQwrkfIH"
      },
      "execution_count": null,
      "outputs": []
    },
    {
      "cell_type": "markdown",
      "source": [
        "# DNA to Text"
      ],
      "metadata": {
        "id": "Ht4fOXN4OYcB"
      }
    },
    {
      "cell_type": "code",
      "source": [
        "# DNA to text\n",
        "def dna_to_text(dna_sequence):\n",
        "    \"\"\"\n",
        "    Convert a DNA sequence back to text using the reverse\n",
        "    mapping (DNA -> binary -> ASCII).\n",
        "    \"\"\"\n",
        "    # Reverse mapping for single nucleotides\n",
        "    reverse_mapping = {\n",
        "        'A': '00',\n",
        "        'C': '01',\n",
        "        'G': '10',\n",
        "        'T': '11'\n",
        "    }\n",
        "\n",
        "    # We'll decode every 4 nucleotides into 8 bits -> 1 character\n",
        "    text_chars = []\n",
        "\n",
        "    # Ensure the sequence length is a multiple of 4\n",
        "    if len(dna_sequence) % 4 != 0:\n",
        "        raise ValueError(\"DNA sequence length must be a multiple of 4.\")\n",
        "\n",
        "    for i in range(0, len(dna_sequence), 4):\n",
        "        chunk = dna_sequence[i:i+4]  # e.g. 'CAGA'\n",
        "        bits = \"\"\n",
        "\n",
        "        # Convert each nucleotide back to its 2-bit string\n",
        "        for nucleotide in chunk:\n",
        "            if nucleotide not in reverse_mapping:\n",
        "                raise ValueError(f\"Invalid nucleotide '{nucleotide}' found.\")\n",
        "            bits += reverse_mapping[nucleotide]\n",
        "\n",
        "        # Convert the 8-bit binary string to an integer ASCII code\n",
        "        ascii_val = int(bits, 2)\n",
        "        # Convert ASCII code to the corresponding character\n",
        "        text_chars.append(chr(ascii_val))\n",
        "\n",
        "    return \"\".join(text_chars)"
      ],
      "metadata": {
        "id": "9iP83FlOJjLl"
      },
      "execution_count": null,
      "outputs": []
    },
    {
      "cell_type": "markdown",
      "source": [
        "# Get Protein Sequence"
      ],
      "metadata": {
        "id": "HJCDQ-WRuLuF"
      }
    },
    {
      "cell_type": "code",
      "source": [
        "# NCBI filler e-mail address\n",
        "Entrez.email = \"m02503275@gmail.com\"\n",
        "\n",
        "def get_protein_sequence(gene_symbol, retmax=1):\n",
        "    \"\"\"\n",
        "    Fetches the first matching protein sequence for the given gene symbol.\n",
        "    Returns a SeqRecord object containing the FASTA sequence.\n",
        "    \"\"\"\n",
        "    # 1) Search for the gene symbol in the 'protein' database\n",
        "    handle = Entrez.esearch(db=\"protein\", term=gene_symbol, retmax=retmax)\n",
        "    record = Entrez.read(handle)\n",
        "    handle.close()\n",
        "\n",
        "    if not record['IdList']:\n",
        "        raise ValueError(f\"No protein found for gene symbol '{gene_symbol}'\")\n",
        "\n",
        "    # 2) Fetch the FASTA sequence of the first matching protein\n",
        "    protein_id = record['IdList'][0]\n",
        "    handle = Entrez.efetch(db=\"protein\", id=protein_id, rettype=\"fasta\", retmode=\"text\")\n",
        "    seq_record = SeqIO.read(handle, \"fasta\")\n",
        "    handle.close()\n",
        "\n",
        "    return seq_record"
      ],
      "metadata": {
        "id": "nL7uZZAlOaqL"
      },
      "execution_count": null,
      "outputs": []
    },
    {
      "cell_type": "markdown",
      "source": [
        "# Extract Translation from DNA Sequence"
      ],
      "metadata": {
        "id": "RXngKTMY1dK3"
      }
    },
    {
      "cell_type": "code",
      "source": [
        "# Extract translation from DNA sequence\n",
        "def extract_translation_from_dna(dna_seq):\n",
        "    \"\"\"\n",
        "    Scans a DNA sequence from left to right to find:\n",
        "      1) The first 'ATG' start codon (defining the reading frame).\n",
        "      2) Continues in steps of 3 until the first stop codon.\n",
        "\n",
        "    Returns the translated protein sequence as a string.\n",
        "\n",
        "    If no start codon is found, returns an empty string.\n",
        "    \"\"\"\n",
        "    start_codon = \"ATG\"\n",
        "    stop_codons = {\"TAA\", \"TAG\", \"TGA\"}\n",
        "\n",
        "    # 0) Conveert sequence to string and format to uppercase\n",
        "    dna_seq = str(dna_seq).upper()\n",
        "\n",
        "    # 1) Find the first occurrence of ATG\n",
        "    start_idx = None\n",
        "    for i in range(len(dna_seq) - 2):\n",
        "        codon = dna_seq[i:i+3]\n",
        "        if codon == start_codon:\n",
        "            start_idx = i\n",
        "            break\n",
        "\n",
        "    # If no start codon, return empty\n",
        "    if start_idx is None:\n",
        "        return \"\"\n",
        "\n",
        "    # 2) Starting from the found start codon, read in steps of 3\n",
        "    codons = []\n",
        "    for i in range(start_idx, len(dna_seq), 3):\n",
        "        codon = dna_seq[i:i+3]\n",
        "        if len(codon) < 3:\n",
        "            break\n",
        "        codons.append(codon)\n",
        "        if codon in stop_codons:\n",
        "            break  # Stop at the first in-frame stop codon\n",
        "\n",
        "    # 3) Combine the codons into one string and add stop to end\n",
        "    segment = \"\".join(codons) + \"*\"\n",
        "\n",
        "    # 4) Translate using Biopython (stops at the first stop codon automatically)\n",
        "    return Seq(segment).translate(to_stop=True)"
      ],
      "metadata": {
        "id": "ljyoZ7oI1h9y"
      },
      "execution_count": null,
      "outputs": []
    },
    {
      "cell_type": "markdown",
      "source": [
        "# Find Closest Protein Match"
      ],
      "metadata": {
        "id": "e-gB6mrg4u47"
      }
    },
    {
      "cell_type": "code",
      "source": [
        "# Find closest protein match\n",
        "def find_closest_protein_match(amino_acid_seq):\n",
        "    \"\"\"\n",
        "    Performs a BLASTP search for the best match to a given amino acid sequence.\n",
        "\n",
        "    Parameters\n",
        "    ----------\n",
        "    amino_acid_seq : str\n",
        "        The protein sequence to query (single-letter amino acid codes).\n",
        "    email : str\n",
        "        Email address for NCBI (required by NCBI; include for usage tracking).\n",
        "\n",
        "    Returns\n",
        "    -------\n",
        "    dict or None\n",
        "        A dictionary with basic info on the top hit, including:\n",
        "          - Accession\n",
        "          - Title\n",
        "          - E-value\n",
        "          - % length match (coverage)\n",
        "        or None if no significant hits are found.\n",
        "    \"\"\"\n",
        "    result_handle = NCBIWWW.qblast(\n",
        "        program=\"blastp\",\n",
        "        database=\"nr\",\n",
        "        sequence=amino_acid_seq,\n",
        "        format_type=\"XML\",\n",
        "        expect=0.001,       # E-value cutoff, adjust as needed\n",
        "        hitlist_size=1     # Only fetch the top hit for simplicity\n",
        "    )\n",
        "\n",
        "    blast_records = NCBIXML.parse(result_handle)\n",
        "\n",
        "    for blast_record in blast_records:\n",
        "        if not blast_record.alignments:\n",
        "            # No hits in this BLAST record\n",
        "            continue\n",
        "\n",
        "        top_alignment = blast_record.alignments[0]\n",
        "        top_hsp = top_alignment.hsps[0]  # High-scoring pair\n",
        "\n",
        "        # Calculate % length match (coverage):\n",
        "        # how much of the query is covered by the alignment\n",
        "        pct_length_match = 100.0 * top_hsp.align_length / len(amino_acid_seq)\n",
        "\n",
        "        return {\n",
        "            \"accession\": top_alignment.accession,\n",
        "            \"title\": top_alignment.title,\n",
        "            \"e_value\": top_hsp.expect,\n",
        "            \"percent_length_match\": pct_length_match\n",
        "        }\n",
        "\n",
        "    # If we reach here, there were no hits at all\n",
        "    return None"
      ],
      "metadata": {
        "id": "kKWMDh-V2sdS"
      },
      "execution_count": null,
      "outputs": []
    },
    {
      "cell_type": "markdown",
      "source": [
        "# Codon Optimize Protein Sequence"
      ],
      "metadata": {
        "id": "ubXqWaAmtc0u"
      }
    },
    {
      "cell_type": "code",
      "source": [
        "# Codon optimize protein sequence\n",
        "def codon_optimize(protein_seq, avoid_enzymes, species, stop=False, min_gc: float = 0.4, max_gc: float = 0.6, gc_window: int = 50):\n",
        "  \"\"\"\n",
        "  Codon optimize a protein sequence.\n",
        "  Avoid specified RE sites.\n",
        "  Opt-in STOP codon.\n",
        "  \"\"\"\n",
        "  # Coding sequence by back-translation\n",
        "  cds = dch.reverse_translate(protein_seq)\n",
        "\n",
        "  # Pattern for enzymes to avoid\n",
        "  avoid_pattern = dch.SequencePattern(\"|\".join([x.site for x in RestrictionBatch(avoid_enzymes)]))\n",
        "  print(avoid_pattern)\n",
        "\n",
        "  # Optimize DNA sequence\n",
        "  problem = dch.DnaOptimizationProblem(\n",
        "    sequence=cds,\n",
        "    constraints=[\n",
        "        dch.AvoidPattern(avoid_pattern),\n",
        "        dch.EnforceGCContent(mini=min_gc, maxi=max_gc, window=gc_window),\n",
        "        dch.EnforceTranslation(),\n",
        "    ],\n",
        "    objectives=[dch.CodonOptimize(species=species)]\n",
        "  )\n",
        "  problem.resolve_constraints()\n",
        "  problem.optimize()\n",
        "\n",
        "  # Optimize stop codon\n",
        "  if not stop:\n",
        "    return problem.sequence\n",
        "\n",
        "  stop_codon = dch.reverse_translate(\"*\")\n",
        "  stop_problem = dch.DnaOptimizationProblem(\n",
        "      sequence = stop_codon,\n",
        "      objectives=[dch.CodonOptimize(species=species)]\n",
        "  )\n",
        "  stop_problem.resolve_constraints()\n",
        "  stop_problem.optimize()\n",
        "  stop_seq = stop_problem.sequence\n",
        "\n",
        "  return problem.sequence + stop_seq"
      ],
      "metadata": {
        "id": "OvcbDMfG8p3b"
      },
      "execution_count": null,
      "outputs": []
    },
    {
      "cell_type": "markdown",
      "source": [
        "# Vector Overhangs"
      ],
      "metadata": {
        "id": "0c1oy5apznyq"
      }
    },
    {
      "cell_type": "code",
      "source": [
        "# Vector overhangs\n",
        "# 1_pU6_sgRNA(mRFP)\n",
        "# 2_pCMV_2A-eGFP_bGH(mRFP)\n",
        "# 3_pPGK_hGH\n",
        "# 4_EC_K12 expression cassettes\n",
        "vector_overhangs = {1: [\"CACC\", \"GTTT\"],\n",
        "                    2: [\"CACC\", \"GGAT\"],\n",
        "                    3: [\"ACC\", \"AGC\"],\n",
        "                    4: [\"AATG\", \"GCTT\"]}"
      ],
      "metadata": {
        "id": "w2LIBw8Tzr5C"
      },
      "execution_count": null,
      "outputs": []
    },
    {
      "cell_type": "markdown",
      "source": [
        "# Avoid Restriction Sites"
      ],
      "metadata": {
        "id": "mqI_V8voxH0v"
      }
    },
    {
      "cell_type": "code",
      "source": [
        "# Avoid restriction sites\n",
        "avoid_sites_1 = [\"BsaI\", \"BsmBI\", \"EcoRV\"]\n",
        "avoid_sites_2 = [\"BsaI\", \"BsmBI\", \"EcoRV\"]\n",
        "avoid_sites_3 = [\"SapI\", \"EcoRV\"]\n",
        "avoid_sites_4 = [\"BsaI\", \"BsmBI\"]"
      ],
      "metadata": {
        "id": "E5z5xA4YuN9l"
      },
      "execution_count": null,
      "outputs": []
    },
    {
      "cell_type": "markdown",
      "source": [
        "# Add Golden Gate Overhangs"
      ],
      "metadata": {
        "id": "FiZZRAD9zLf7"
      }
    },
    {
      "cell_type": "code",
      "source": [
        "# Add Golden Gate overhangs\n",
        "def add_golden_gate_overhangs(seq, enzyme, vector_id):\n",
        "  \"\"\"\n",
        "  Add Golden Gate Overhangs.\n",
        "  \"\"\"\n",
        "  seq = Seq(seq)\n",
        "\n",
        "  # Vector overhangs\n",
        "  left_overhang, right_overhang = vector_overhangs.get(vector_id)\n",
        "\n",
        "  # Golden Gate sites\n",
        "  gg_site = define_gg_site(enzyme)\n",
        "  left_site, right_site = gg_site + left_overhang, right_overhang + gg_site.reverse_complement()\n",
        "\n",
        "  return Seq(left_site + seq + right_site)"
      ],
      "metadata": {
        "id": "8pfERkPhxzto"
      },
      "execution_count": null,
      "outputs": []
    },
    {
      "cell_type": "markdown",
      "source": [
        "# Get Maximum Set of Golden Gate Overhangs"
      ],
      "metadata": {
        "id": "GzqbWoMPnS8J"
      }
    },
    {
      "cell_type": "code",
      "source": [
        "# Get maximum set of Golden Gate overhangs\n",
        "# Using graph approach to find maximum clique\n",
        "import networkx as nx\n",
        "import itertools\n",
        "from networkx.algorithms.approximation import clique\n",
        "\n",
        "def generate_all_sequences(length):\n",
        "    \"\"\"Generate all possible DNA sequences of a given length.\"\"\"\n",
        "    bases = 'ATCG'\n",
        "    return [''.join(seq) for seq in itertools.product(bases, repeat=length)]\n",
        "\n",
        "def hamming_distance(seq1, seq2):\n",
        "    \"\"\"Compute the Hamming distance between two sequences.\"\"\"\n",
        "    return sum(c1 != c2 for c1, c2 in zip(seq1, seq2))\n",
        "\n",
        "def get_max_gg_overhangs(overhang_length: int = 4, min_dist: int = 2):\n",
        "    # Step 1: Generate all possible DNA sequences of the target length.\n",
        "    sequences = generate_all_sequences(overhang_length)\n",
        "\n",
        "    # Step 2: Create a graph where sequences are nodes,\n",
        "    # and add edges between nodes if their Hamming distance meets the minimum.\n",
        "    G = nx.Graph()\n",
        "    G.add_nodes_from(sequences)\n",
        "\n",
        "    for seq1, seq2 in itertools.combinations(sequences, 2):\n",
        "        if hamming_distance(seq1, seq2) >= min_dist:\n",
        "            G.add_edge(seq1, seq2)\n",
        "\n",
        "    # Step 3: Use NetworkX's approximation algorithm to find a large clique.\n",
        "    max_clq = clique.max_clique(G)\n",
        "\n",
        "    # Step 4: Return the list of sequences in the (approximate) maximum clique.\n",
        "    return list(max_clq)"
      ],
      "metadata": {
        "id": "U_jE88JxnXF8"
      },
      "execution_count": null,
      "outputs": []
    },
    {
      "cell_type": "markdown",
      "source": [
        "# Get Maximum Set of Golden Gate Overhangs (DAD)"
      ],
      "metadata": {
        "id": "9LrR14M1ltEL"
      }
    },
    {
      "cell_type": "code",
      "source": [
        "# Get maximum set of Golden Gate DAD overhangs\n",
        "def get_max_gg_dad_overhangs(enzyme_id, temp_id: str, dist: int = 2):\n",
        "  \"\"\"\n",
        "  Get maximum set of Golden Gate overhangs.\n",
        "  Based on Tatapov DAD (enzyme, temperature).\n",
        "  Set base difference (default = 2).\n",
        "  \"\"\"\n",
        "  annealing_data = tatapov.annealing_data[temp_id][enzyme_id]\n",
        "\n",
        "  self_annealings = tatapov.relative_self_annealings(annealing_data)\n",
        "  weak_self_annealing_overhangs = [\n",
        "      overhang\n",
        "      for overhang, self_annealing in self_annealings.items()\n",
        "      if self_annealing < 0.05\n",
        "  ]\n",
        "\n",
        "  cross_annealings = tatapov.cross_annealings(annealing_data)\n",
        "  high_cross_annealing_pairs = [\n",
        "      overhang_pair\n",
        "      for overhang_pair, cross_annealing in cross_annealings.items()\n",
        "      if cross_annealing > 0.005\n",
        "  ]\n",
        "\n",
        "  selector = OverhangsSelector(\n",
        "      difference=dist,\n",
        "      forbidden_overhangs=weak_self_annealing_overhangs,\n",
        "      forbidden_pairs=high_cross_annealing_pairs\n",
        "  )\n",
        "\n",
        "  overhangs = selector.generate_overhangs_set()\n",
        "\n",
        "  return overhangs"
      ],
      "metadata": {
        "id": "1ECERk-AlxJP"
      },
      "execution_count": null,
      "outputs": []
    },
    {
      "cell_type": "markdown",
      "source": [
        "# Create gene name"
      ],
      "metadata": {
        "id": "9nC4if3pHi2w"
      }
    },
    {
      "cell_type": "code",
      "source": [
        "# Create gene name\n",
        "def create_gene_name(gene_symbol, species: str, vector_id: int, chemistry: str):\n",
        "  \"\"\"\n",
        "  Create gene name based on symbol, species and vector_id.\n",
        "  \"\"\"\n",
        "  prefix = \"\".join([str(vector_id), chemistry])\n",
        "  gene_name = \"_\".join([prefix, species, gene_symbol])\n",
        "\n",
        "  return gene_name"
      ],
      "metadata": {
        "id": "9OUC32kS1TBb"
      },
      "execution_count": null,
      "outputs": []
    }
  ]
}