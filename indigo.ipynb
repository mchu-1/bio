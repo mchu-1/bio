{
  "nbformat": 4,
  "nbformat_minor": 0,
  "metadata": {
    "colab": {
      "provenance": [],
      "authorship_tag": "ABX9TyP/RfTGjLdk3EIleEasOw6u",
      "include_colab_link": true
    },
    "kernelspec": {
      "name": "python3",
      "display_name": "Python 3"
    },
    "language_info": {
      "name": "python"
    }
  },
  "cells": [
    {
      "cell_type": "markdown",
      "metadata": {
        "id": "view-in-github",
        "colab_type": "text"
      },
      "source": [
        "<a href=\"https://colab.research.google.com/github/mchu-1/bio/blob/main/indigo.ipynb\" target=\"_parent\"><img src=\"https://colab.research.google.com/assets/colab-badge.svg\" alt=\"Open In Colab\"/></a>"
      ]
    },
    {
      "cell_type": "code",
      "execution_count": 20,
      "metadata": {
        "colab": {
          "base_uri": "https://localhost:8080/"
        },
        "id": "9CAHNN6TOvjv",
        "outputId": "8476c5d6-49e4-4511-9261-e3ae2e796dff"
      },
      "outputs": [
        {
          "output_type": "stream",
          "name": "stdout",
          "text": [
            "  Preparing metadata (setup.py) ... \u001b[?25l\u001b[?25hdone\n",
            "\u001b[2K   \u001b[90m━━━━━━━━━━━━━━━━━━━━━━━━━━━━━━━━━━━━━━━━\u001b[0m \u001b[32m146.8/146.8 kB\u001b[0m \u001b[31m12.3 MB/s\u001b[0m eta \u001b[36m0:00:00\u001b[0m\n",
            "\u001b[?25h  Building wheel for docopt (setup.py) ... \u001b[?25l\u001b[?25hdone\n"
          ]
        }
      ],
      "source": [
        "!pip install biopython dnacauldron dnachisel -q"
      ]
    },
    {
      "cell_type": "code",
      "source": [
        "from Bio import SeqIO\n",
        "from Bio.Seq import Seq\n",
        "from Bio.Restriction import *\n",
        "import dnacauldron as dnc\n",
        "import dnachisel as dch"
      ],
      "metadata": {
        "id": "aukHONOaPE_M"
      },
      "execution_count": 21,
      "outputs": []
    },
    {
      "cell_type": "code",
      "source": [
        "# EC_K12_constitutive\n",
        "a10 = SeqIO.read(\"A10.gb\", \"gb\")\n",
        "# EC_K12_inducible\n",
        "b1 = SeqIO.read(\"B1.gb\", \"gb\")"
      ],
      "metadata": {
        "id": "2c05yFnJPZTV"
      },
      "execution_count": 15,
      "outputs": []
    },
    {
      "cell_type": "markdown",
      "source": [
        "Switching handles on expression cassettes by PCR"
      ],
      "metadata": {
        "id": "klORsKoQVAuo"
      }
    },
    {
      "cell_type": "code",
      "source": [
        "# Replace degenerate bases in Type IIS RS\n",
        "def define_gg_site(enzyme):\n",
        "  \"\"\"\n",
        "  Replace degenerate bases with random GC bases for T2S RS.\n",
        "  \"\"\"\n",
        "  B = []\n",
        "  for x in enzyme.elucidate().split(\"^\")[0]:\n",
        "    if \"N\" in x:\n",
        "      B.append(dch.random_dna_sequence(length=1, gc_share=1, seed=0))\n",
        "    else:\n",
        "      B.append(x)\n",
        "  return \"\".join(B)"
      ],
      "metadata": {
        "id": "hlHcK6q_TCJO"
      },
      "execution_count": 30,
      "outputs": []
    },
    {
      "cell_type": "code",
      "source": [
        "# Get sequence between Golden Gate handles\n",
        "def get_gg_part(enzyme, seq, overhang: int = 4):\n",
        "  # Default overhang length is 4 nt.\n",
        "  gg_part = enzyme.catalyse(seq)[1] + enzyme.catalyse(seq)[-1][:overhang]\n",
        "  return gg_part"
      ],
      "metadata": {
        "id": "CJCvmW8LVewu"
      },
      "execution_count": 43,
      "outputs": []
    },
    {
      "cell_type": "code",
      "source": [
        "# Switch Golden Gate handles\n",
        "def switch_gg_handles(enzyme_1, enzyme_2, seq, overhang: int = 4):\n",
        "  \"\"\"\n",
        "  Switch T2S enzyme handles for a given sequence.\n",
        "  Default overhang length is 4 nt.\n",
        "  \"\"\"\n",
        "  seq_ = get_gg_part(enzyme_1, seq, overhang)\n",
        "  new_handle = Seq(define_gg_site(enzyme_2))\n",
        "  new_seq = new_handle + seq_ + new_handle.reverse_complement()\n",
        "\n",
        "  return Seq(new_seq)"
      ],
      "metadata": {
        "id": "ZpLa0-fuRUAB"
      },
      "execution_count": 44,
      "outputs": []
    },
    {
      "cell_type": "code",
      "source": [
        "# Switch handles from BbsI to Esp3I\n",
        "a10_ = switch_gg_handles(BbsI, Esp3I, a10.seq)\n",
        "b1_ = switch_gg_handles(BbsI, Esp3I, b1.seq)"
      ],
      "metadata": {
        "id": "13fMjIUvRbeR"
      },
      "execution_count": 45,
      "outputs": []
    },
    {
      "cell_type": "code",
      "source": [
        "# Define primers to perform handle switching\n",
        "def index_ends"
      ],
      "metadata": {
        "colab": {
          "base_uri": "https://localhost:8080/"
        },
        "id": "0JR30s5AR3ap",
        "outputId": "89d46b0b-9f6f-4329-8c9f-d4db00eda045"
      },
      "execution_count": 41,
      "outputs": [
        {
          "output_type": "stream",
          "name": "stdout",
          "text": [
            "CGTCTCCGGAGTTGACAGCTAGCTCAGTCCTAGGTATAATGCTAGCTACTAGCTGTCACCGGATGTGCTTTCCGGTCTGATGAGTCCGTGAGGACGAAACAGCCTCTACAAATAATTTTGTTTAAACTAGAAAAGAGGAGAAATACTAGATGTAATGGGAGACCAACATTGGGCGCACAAGACCCACGATCGCTTATTCGAACGGGTCTCCGCTTGCTTGGATCCGAATTCGAGCTCCGTCGACCTAGCATAACCCCGCCGGGCCTCTTCGGGGGTCTGGCGGGGTTTTTTGCTGAAAGAAGCTTCAAATAAAACGAAAGGCTCAGTCGAAAGACTGGGCCTTTCGTTTTATCTGTTGTTTGTCGCTGCGGCCGCACTCGAGCACCACCACCACCACCACTGAGATCCGGCTGCTAACAAAGCCCGAAAGGAAGCTGAGTTGGCTGCTGCCACCGCTGAGCAATAACTAGCATAACCCCTTGGGGCCTCTAAACGGGTCTTGAGGGGTTTTTTGCTGAAAGGCGGCCGCGATATCCCATGGCTGCAGGGCCTGACTGGCCGAATTCAAGCTTTCTAGACGCTGGAGACG\n"
          ]
        }
      ]
    },
    {
      "cell_type": "code",
      "source": [
        "# import RNAfold\n"
      ],
      "metadata": {
        "id": "_QV0y-L2U0BT"
      },
      "execution_count": null,
      "outputs": []
    }
  ]
}